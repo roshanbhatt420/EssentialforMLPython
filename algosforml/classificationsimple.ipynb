{
 "cells": [
  {
   "cell_type": "code",
   "execution_count": 10,
   "id": "8aace07e-3de3-41bf-bcb4-da8a56a55862",
   "metadata": {},
   "outputs": [
    {
     "name": "stdout",
     "output_type": "stream",
     "text": [
      "[[0 0]\n",
      " [0 1]\n",
      " [1 0]\n",
      " [1 1]]\n",
      "[0 1 1 1]\n"
     ]
    }
   ],
   "source": [
    "# classification Example \n",
    "import numpy as np \n",
    "x=np.array([[0,0],[0,1],[1,0],[1,1]])\n",
    "y=np.array([0,1,1,1])\n",
    "print(x)\n",
    "print(y)"
   ]
  },
  {
   "cell_type": "code",
   "execution_count": 11,
   "id": "2aa1b379-0501-4fa7-b2b0-2cfbef91df96",
   "metadata": {},
   "outputs": [],
   "source": [
    "w=np.array([1,1])\n",
    "b=0.5"
   ]
  },
  {
   "cell_type": "code",
   "execution_count": 12,
   "id": "077c8d85-dda5-4f90-9a4c-12e9c0e84b59",
   "metadata": {},
   "outputs": [
    {
     "name": "stdout",
     "output_type": "stream",
     "text": [
      "[1, 1, 1, 1]\n"
     ]
    }
   ],
   "source": [
    "pred=[]\n",
    "def activation(z):\n",
    "    if z>=0:\n",
    "        return 1\n",
    "    else:\n",
    "        return 0\n",
    "        \n",
    "for a in x:\n",
    "    y_hat=np.dot(a,w)+b\n",
    "    pred.append(activation(y_hat))\n",
    "\n",
    "print(pred)\n",
    "        \n",
    "    "
   ]
  },
  {
   "cell_type": "code",
   "execution_count": 13,
   "id": "f68bb61b-b131-4f88-8cc3-6e59bb2a8d1d",
   "metadata": {},
   "outputs": [],
   "source": [
    "import math\n",
    "import numpy as np\n",
    "epochs=100\n",
    "alpha=0.2\n"
   ]
  },
  {
   "cell_type": "code",
   "execution_count": 14,
   "id": "36b34ebf-62b4-4bb3-a5ce-2223c382cf7a",
   "metadata": {},
   "outputs": [
    {
     "name": "stdout",
     "output_type": "stream",
     "text": [
      "intial weigt\n",
      "w0 0.7132967758493542 w1 0.8744240407314893 w2 0.6741230746227882\n"
     ]
    }
   ],
   "source": [
    "w0=np.random.random()\n",
    "w1=np.random.random()\n",
    "w2=np.random.random()\n",
    "print(\"intial weigt\")\n",
    "print(\"w0\",w0,\"w1\",w1,\"w2\",w2)"
   ]
  },
  {
   "cell_type": "code",
   "execution_count": 15,
   "id": "98b869db-3c47-4c73-9642-521b73e5291c",
   "metadata": {},
   "outputs": [],
   "source": [
    "del_w0=1\n",
    "del_w1=1\n",
    "del_w2=1"
   ]
  },
  {
   "cell_type": "code",
   "execution_count": 16,
   "id": "a6445eb2-6207-4e7e-93b1-f04a17f01eae",
   "metadata": {},
   "outputs": [
    {
     "name": "stdout",
     "output_type": "stream",
     "text": [
      "[[0, 0, 0], [0, 0, 1], [0, 1, 0], [0, 1, 1], [1, 0, 0], [1, 0, 1], [1, 1, 0], [1, 1, 1]]\n",
      "8\n"
     ]
    }
   ],
   "source": [
    "train_data=[[0,0,0],[0,0,1],[0,1,0],[0,1,1],[1,0,0],[1,0,1],[1,1,0],[1,1,1]]\n",
    "print(train_data)\n",
    "tain_data_ok=np.asarray(train_data)\n",
    "print(t)\n",
    "print(len(train_data))\n"
   ]
  },
  {
   "cell_type": "code",
   "execution_count": 17,
   "id": "53916f08-5904-48e4-abd9-8f1137ae7b59",
   "metadata": {},
   "outputs": [
    {
     "name": "stdout",
     "output_type": "stream",
     "text": [
      "8\n"
     ]
    }
   ],
   "source": [
    "op=np.array([0,1,1,1,1,1,1,1])\n",
    "a=len(op)\n",
    "print(a)"
   ]
  },
  {
   "cell_type": "code",
   "execution_count": 18,
   "id": "8ff8c55b-c151-406f-a6d0-b88a222fbfbf",
   "metadata": {},
   "outputs": [
    {
     "ename": "NameError",
     "evalue": "name 'train_data_ok' is not defined",
     "output_type": "error",
     "traceback": [
      "\u001b[1;31m---------------------------------------------------------------------------\u001b[0m",
      "\u001b[1;31mNameError\u001b[0m                                 Traceback (most recent call last)",
      "Cell \u001b[1;32mIn[18], line 5\u001b[0m\n\u001b[0;32m      3\u001b[0m \u001b[38;5;28;01mfor\u001b[39;00m i \u001b[38;5;129;01min\u001b[39;00m \u001b[38;5;28mrange\u001b[39m(epochs):\n\u001b[0;32m      4\u001b[0m     j\u001b[38;5;241m=\u001b[39m\u001b[38;5;241m0\u001b[39m;\n\u001b[1;32m----> 5\u001b[0m     \u001b[38;5;28;01mfor\u001b[39;00m x \u001b[38;5;129;01min\u001b[39;00m \u001b[43mtrain_data_ok\u001b[49m:\n\u001b[0;32m      6\u001b[0m         y_hat\u001b[38;5;241m=\u001b[39mw0\u001b[38;5;241m*\u001b[39mx[\u001b[38;5;241m0\u001b[39m]\u001b[38;5;241m+\u001b[39mw1\u001b[38;5;241m*\u001b[39mx[\u001b[38;5;241m1\u001b[39m]\u001b[38;5;241m+\u001b[39mw2\u001b[38;5;241m*\u001b[39mx[\u001b[38;5;241m2\u001b[39m]\u001b[38;5;241m+\u001b[39mbais\n\u001b[0;32m      7\u001b[0m         \u001b[38;5;28;01mif\u001b[39;00m(y_hat\u001b[38;5;241m>\u001b[39m\u001b[38;5;241m=\u001b[39m\u001b[38;5;241m0\u001b[39m):\n",
      "\u001b[1;31mNameError\u001b[0m: name 'train_data_ok' is not defined"
     ]
    }
   ],
   "source": [
    "#y=(x*w)+b\n",
    "bais=0\n",
    "for i in range(epochs):\n",
    "    j=0;\n",
    "    for x in train_data_ok:\n",
    "        y_hat=w0*x[0]+w1*x[1]+w2*x[2]+bais\n",
    "        if(y_hat>=0):\n",
    "            act=1\n",
    "        else:\n",
    "            act=0\n",
    "        err=op[j]-act\n",
    "        del_w0=alpha*x[0]*err\n",
    "        del_w1=alpha*x[1]*err\n",
    "        del_w2=alpha*x[2]*err\n",
    "\n",
    "\n",
    "        w0=w0+del_w0\n",
    "        w1=w1+del_w1\n",
    "        w2=w2+del_w2\n",
    "        j=j+1\n",
    "        print(\"epoch:\",j)\n",
    "        print(\"error\",err)"
   ]
  },
  {
   "cell_type": "code",
   "execution_count": null,
   "id": "e6529cee-c262-46f9-ad28-02b75d1788fe",
   "metadata": {},
   "outputs": [],
   "source": []
  },
  {
   "cell_type": "code",
   "execution_count": null,
   "id": "2e0260a8-9667-425b-8acf-1c367370cfd8",
   "metadata": {},
   "outputs": [],
   "source": []
  },
  {
   "cell_type": "code",
   "execution_count": null,
   "id": "498a66c2-2742-4dcb-88b0-b7af844767d9",
   "metadata": {},
   "outputs": [],
   "source": []
  }
 ],
 "metadata": {
  "kernelspec": {
   "display_name": "Python 3 (ipykernel)",
   "language": "python",
   "name": "python3"
  },
  "language_info": {
   "codemirror_mode": {
    "name": "ipython",
    "version": 3
   },
   "file_extension": ".py",
   "mimetype": "text/x-python",
   "name": "python",
   "nbconvert_exporter": "python",
   "pygments_lexer": "ipython3",
   "version": "3.12.3"
  }
 },
 "nbformat": 4,
 "nbformat_minor": 5
}
