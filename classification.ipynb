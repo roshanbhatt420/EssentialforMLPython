{
<<<<<<< HEAD:classification.ipynb
 "cells": [
  {
   "cell_type": "code",
   "execution_count": null,
   "id": "974fdbf4-15fe-4350-ab9f-3aeb3654bb16",
   "metadata": {},
   "outputs": [],
   "source": [
    "#percepton example and"
   ]
  }
 ],
 "metadata": {
  "kernelspec": {
   "display_name": "Python 3 (ipykernel)",
   "language": "python",
   "name": "python3"
=======
  "cells": [
    {
      "cell_type": "markdown",
      "metadata": {
        "id": "view-in-github",
        "colab_type": "text"
      },
      "source": [
        "<a href=\"https://colab.research.google.com/github/roshanbhatt420/EssentialforMLPython/blob/main/Untitled.ipynb\" target=\"_parent\"><img src=\"https://colab.research.google.com/assets/colab-badge.svg\" alt=\"Open In Colab\"/></a>"
      ]
    },
    {
      "cell_type": "code",
      "execution_count": null,
      "id": "974fdbf4-15fe-4350-ab9f-3aeb3654bb16",
      "metadata": {
        "id": "974fdbf4-15fe-4350-ab9f-3aeb3654bb16"
      },
      "outputs": [],
      "source": [
        "# feature engineeirng\n"
      ]
    }
  ],
  "metadata": {
    "kernelspec": {
      "display_name": "Python 3 (ipykernel)",
      "language": "python",
      "name": "python3"
    },
    "language_info": {
      "codemirror_mode": {
        "name": "ipython",
        "version": 3
      },
      "file_extension": ".py",
      "mimetype": "text/x-python",
      "name": "python",
      "nbconvert_exporter": "python",
      "pygments_lexer": "ipython3",
      "version": "3.12.3"
    },
    "colab": {
      "provenance": [],
      "include_colab_link": true
    }
>>>>>>> 8702326f128025153b19fc2d5f53befa563747e8:Untitled.ipynb
  },
  "nbformat": 4,
  "nbformat_minor": 5
}