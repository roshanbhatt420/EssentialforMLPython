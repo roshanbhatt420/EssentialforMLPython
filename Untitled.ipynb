{
 "cells": [
  {
   "cell_type": "code",
   "execution_count": null,
   "id": "974fdbf4-15fe-4350-ab9f-3aeb3654bb16",
   "metadata": {},
   "outputs": [],
   "source": [
    "# to delete the data is not the good way to do so \n",
    "# We impute the data rather than the delete \n",
    "# using the mean , medium ,mode\n",
    "from sklearn.impute import simplerImputer\n",
    "#way to ivoke the simple imputer is  \n",
    "imp=SimpleImputer(strategy='mean')\n",
    "df[\n"
   ]
  }
 ],
 "metadata": {
  "kernelspec": {
   "display_name": "Python 3 (ipykernel)",
   "language": "python",
   "name": "python3"
  },
  "language_info": {
   "codemirror_mode": {
    "name": "ipython",
    "version": 3
   },
   "file_extension": ".py",
   "mimetype": "text/x-python",
   "name": "python",
   "nbconvert_exporter": "python",
   "pygments_lexer": "ipython3",
   "version": "3.12.3"
  }
 },
 "nbformat": 4,
 "nbformat_minor": 5
}
